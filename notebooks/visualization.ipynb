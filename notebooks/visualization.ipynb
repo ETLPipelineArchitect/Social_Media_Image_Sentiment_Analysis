{
    "cells": [
        {
            "cell_type": "markdown",
            "metadata": {},
            "source": [
                "# Data Visualization\n",
                "Visualizing the sentiment analysis results from social media images."
            ]
        },
        {
            "cell_type": "code",
            "execution_count": 1,
            "metadata": {},
            "outputs": [],
            "source": [
                "import pandas as pd\n",
                "import matplotlib.pyplot as plt\n",
                "import seaborn as sns\n",
                "\n",
                "# Load Data from S3 (Assuming data is downloaded locally)\n",
                "sentiment_data = pd.read_json('data/sentiment_data.json')\n",
                "\n",
                "# Visualize the sentiment trends\n",
                "plt.figure(figsize=(12, 6))\n",
                "sns.countplot(data=sentiment_data, x='month', hue='sentiment')\n",
                "plt.title('Monthly Sentiment Trends')\n",
                "plt.xlabel('Month')\n",
                "plt.ylabel('Count')\n",
                "plt.xticks(rotation=45)\n",
                "plt.legend(title='Sentiment')\n",
                "plt.show()"
            ]
        }
    ],
    "metadata": {
        "kernelspec": {
            "display_name": "Python 3",
            "language": "python",
            "name": "python3"
        },
        "language_info": {
            "name": "python",
            "version": "3.8.5",
            "mimetype": "text/x-python",
            "codemirror_mode": {
                "name": "ipython",
                "version": 3
            },
            "pygments_lexer": "ipython3",
            "nbconvert_exporter": "python",
            "file_extension": ".py"
        }
    },
    "nbformat": 4,
    "nbformat_minor": 5
}